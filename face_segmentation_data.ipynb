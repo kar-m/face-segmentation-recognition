{
  "nbformat": 4,
  "nbformat_minor": 0,
  "metadata": {
    "colab": {
      "name": "face_segmentation_data.ipynb",
      "provenance": []
    },
    "kernelspec": {
      "name": "python3",
      "display_name": "Python 3"
    },
    "language_info": {
      "name": "python"
    }
  },
  "cells": [
    {
      "cell_type": "code",
      "execution_count": null,
      "metadata": {
        "id": "1ZawgkcoTUMI"
      },
      "outputs": [],
      "source": [
        "import numpy as np\n",
        "import pandas as pd\n",
        "import matplotlib.pyplot as plt\n",
        "from glob import glob\n",
        "from sklearn.linear_model import LogisticRegression\n",
        "from bs4 import BeautifulSoup\n",
        "import cv2 as cv\n",
        "from google.colab.patches import cv2_imshow as cv_imshow\n",
        "from sklearn.model_selection import train_test_split\n",
        "import random\n",
        "from google.colab import drive\n",
        "from tqdm import tqdm\n",
        "import tensorflow as tf\n",
        "from keras.layers import Input,Conv2D,MaxPooling2D,UpSampling2D, BatchNormalization\n",
        "from keras.models import Model\n",
        "from keras import optimizers\n",
        "from time import time\n",
        "from os.path import exists"
      ]
    },
    {
      "cell_type": "code",
      "source": [
        "drive.mount(\"/content/drive/\")"
      ],
      "metadata": {
        "id": "ynkTN4v-Toez"
      },
      "execution_count": null,
      "outputs": []
    },
    {
      "cell_type": "code",
      "source": [
        "!unzip '/content/drive/MyDrive/headsegmentation_dataset_ccncsa.zip' -d 'head_data'"
      ],
      "metadata": {
        "id": "NNG_MlgMTve0"
      },
      "execution_count": null,
      "outputs": []
    },
    {
      "cell_type": "code",
      "source": [
        "# Get all the paths in the dataset's directory\n",
        "dir_paths = glob('/content/head_data/*')"
      ],
      "metadata": {
        "id": "kPJRzOH2UUim"
      },
      "execution_count": null,
      "outputs": []
    },
    {
      "cell_type": "code",
      "source": [
        "# Perform a sanity check\n",
        "dir_paths[0]"
      ],
      "metadata": {
        "colab": {
          "base_uri": "https://localhost:8080/",
          "height": 35
        },
        "id": "_Icu8xorXkg8",
        "outputId": "aee8c54e-bcc4-40e9-a889-bbfbae6d5d5f"
      },
      "execution_count": null,
      "outputs": [
        {
          "output_type": "execute_result",
          "data": {
            "application/vnd.google.colaboratory.intrinsic+json": {
              "type": "string"
            },
            "text/plain": [
              "'/content/head_data/malecorry_env01'"
            ]
          },
          "metadata": {},
          "execution_count": 5
        }
      ]
    },
    {
      "cell_type": "code",
      "source": [
        "# Create a set for all the unique directory identifiers (e.g. female03, male01...)\n",
        "unique_dir = set([])\n",
        "\n",
        "# Loop through all the file paths\n",
        "for path in tqdm(dir_paths):\n",
        "\n",
        "  # Divide the path between directories and subdirectories, take the last one's name\n",
        "  unique_name = path.split('/')[-1]\n",
        "\n",
        "  # Isolate the directory's unique identifier\n",
        "  unique_name = unique_name.split('_')[0]\n",
        "\n",
        "  # Add the identifier to the set\n",
        "  unique_dir.add(unique_name)"
      ],
      "metadata": {
        "colab": {
          "base_uri": "https://localhost:8080/"
        },
        "id": "7-9bgLPWXtvL",
        "outputId": "3cc404b2-c4e5-4c79-c9c6-cf9d92e8102e"
      },
      "execution_count": null,
      "outputs": [
        {
          "output_type": "stream",
          "name": "stderr",
          "text": [
            "100%|██████████| 80/80 [00:00<00:00, 256140.70it/s]\n"
          ]
        }
      ]
    },
    {
      "cell_type": "code",
      "source": [
        "# Remove extra identifiers which won't be used for creating the data-label pairs\n",
        "for remove_dir in ['labels', 'license.txt', 'real', 'training.xml', 'male06']:\n",
        "  unique_dir.remove(remove_dir)"
      ],
      "metadata": {
        "id": "ZqUQvbVrYg1Y"
      },
      "execution_count": null,
      "outputs": []
    },
    {
      "cell_type": "code",
      "source": [
        "# Check the identifiers to see if there's anything extra\n",
        "unique_dir"
      ],
      "metadata": {
        "colab": {
          "base_uri": "https://localhost:8080/"
        },
        "id": "wKR1CFSWY9Rz",
        "outputId": "17ef3f0a-794e-467e-b193-af116b25e8fb"
      },
      "execution_count": null,
      "outputs": [
        {
          "output_type": "execute_result",
          "data": {
            "text/plain": [
              "{'female03',\n",
              " 'female10',\n",
              " 'female23',\n",
              " 'femalealison1',\n",
              " 'femalealison2',\n",
              " 'femalebarbera',\n",
              " 'femalebarbera2',\n",
              " 'femalecarla',\n",
              " 'femalecarla2',\n",
              " 'femalefelice',\n",
              " 'femalejoyce',\n",
              " 'femalejoyce2',\n",
              " 'femalelaura',\n",
              " 'femalelaura2',\n",
              " 'femaleroberta',\n",
              " 'male01',\n",
              " 'male09',\n",
              " 'male23',\n",
              " 'maleandrew',\n",
              " 'maleandrew2',\n",
              " 'malebruce',\n",
              " 'malebruce2',\n",
              " 'malecarlos',\n",
              " 'malecarlos2',\n",
              " 'malecorry',\n",
              " 'malecorry2',\n",
              " 'maleelias',\n",
              " 'maleelias2',\n",
              " 'malegaberial',\n",
              " 'malegaberial2',\n",
              " 'malekumar',\n",
              " 'maleshawn',\n",
              " 'multiperson'}"
            ]
          },
          "metadata": {},
          "execution_count": 8
        }
      ]
    },
    {
      "cell_type": "code",
      "source": [
        "# Create a list to store data-label path pairs for every unique person\n",
        "per_person_paired = []\n",
        "\n",
        "# Loop through all the unique directory identifiers \n",
        "for dir in unique_dir:\n",
        "\n",
        "  # Get all the file paths corresponding to a give identifier\n",
        "  personal_paths = glob('/content/head_data/' + dir + '_*/*')\n",
        "\n",
        "  # Generate the labels path corresponding to identifier\n",
        "  generated_pairs = ['/content/head_data/labels/' + dir + '/' + path.split('/')[-1] for path in personal_paths]\n",
        "\n",
        "  # Check if these generated paths exist\n",
        "  for check_path in generated_pairs:\n",
        "    if not exists(check_path):\n",
        "      print(check_path)\n",
        "      print('FAILED FAILED')\n",
        "      break\n",
        "  else:\n",
        "    # Add the data-label path pairs to the list\n",
        "    per_person_paired.append(dict(zip(personal_paths, generated_pairs)))\n",
        "    continue\n",
        "  break"
      ],
      "metadata": {
        "id": "LnUt2QmwZLvJ"
      },
      "execution_count": null,
      "outputs": []
    },
    {
      "cell_type": "code",
      "source": [
        "# Save all the pairs in a single dictionary\n",
        "\n",
        "paired = {}\n",
        "\n",
        "for d in per_person_paired:\n",
        "  paired.update(d)"
      ],
      "metadata": {
        "id": "CQfHjhOnZljt"
      },
      "execution_count": null,
      "outputs": []
    },
    {
      "cell_type": "code",
      "source": [
        "# Divide the dictionary into corresponding X and y arrays\n",
        "X_paths, y_paths = list(paired.keys()), list(paired.values())"
      ],
      "metadata": {
        "id": "s8mndiJWgGzY"
      },
      "execution_count": null,
      "outputs": []
    },
    {
      "cell_type": "code",
      "source": [
        "# Perform a sanity check that the arrays have matching paths\n",
        "X_paths[0], y_paths[0]"
      ],
      "metadata": {
        "colab": {
          "base_uri": "https://localhost:8080/"
        },
        "id": "xyJoH23goDil",
        "outputId": "21816dbe-c61b-46e5-c925-125459b19f82"
      },
      "execution_count": null,
      "outputs": [
        {
          "output_type": "execute_result",
          "data": {
            "text/plain": [
              "('/content/head_data/malecorry_env01/headrende0021.png',\n",
              " '/content/head_data/labels/malecorry/headrende0021.png')"
            ]
          },
          "metadata": {},
          "execution_count": 12
        }
      ]
    },
    {
      "cell_type": "code",
      "source": [
        "# Check the shapes of images contained in the face pictures\n",
        "\n",
        "shapes_X = []\n",
        "\n",
        "# Loop through all the paths in X\n",
        "for path in tqdm(X_paths):\n",
        "\n",
        "  # Read the image from the path\n",
        "  image = cv.imread(path)\n",
        "\n",
        "  # Save the given shape\n",
        "  shapes_X.append(image.shape)"
      ],
      "metadata": {
        "colab": {
          "base_uri": "https://localhost:8080/"
        },
        "id": "D23iHNofjqM1",
        "outputId": "b84dd33e-9b88-4444-e3ab-7c1797d3ff30"
      },
      "execution_count": null,
      "outputs": [
        {
          "output_type": "stream",
          "name": "stderr",
          "text": [
            "100%|██████████| 12735/12735 [01:03<00:00, 199.29it/s]\n"
          ]
        }
      ]
    },
    {
      "cell_type": "code",
      "source": [
        "# Find all the unique shape components\n",
        "np.unique(shapes_X)"
      ],
      "metadata": {
        "colab": {
          "base_uri": "https://localhost:8080/"
        },
        "id": "YVKOe4Pejq5U",
        "outputId": "d797b4c8-abe4-427d-bc88-ea2f8ed60dd6"
      },
      "execution_count": null,
      "outputs": [
        {
          "output_type": "execute_result",
          "data": {
            "text/plain": [
              "array([  3, 280, 300])"
            ]
          },
          "metadata": {},
          "execution_count": 14
        }
      ]
    },
    {
      "cell_type": "code",
      "source": [
        "shapes_y = []\n",
        "\n",
        "for path in tqdm(y_paths):\n",
        "\n",
        "  image = cv.imread(path)\n",
        "\n",
        "  shapes_y.append(image.shape)\n",
        "  \n",
        "np.unique(shapes_y)"
      ],
      "metadata": {
        "colab": {
          "base_uri": "https://localhost:8080/"
        },
        "id": "mjzkTAfwk0_a",
        "outputId": "902e8b75-4d48-4e0f-84f3-024b18fae3ad"
      },
      "execution_count": null,
      "outputs": [
        {
          "output_type": "stream",
          "name": "stderr",
          "text": [
            "100%|██████████| 12735/12735 [00:18<00:00, 704.15it/s]\n"
          ]
        },
        {
          "output_type": "execute_result",
          "data": {
            "text/plain": [
              "array([  3, 280, 300])"
            ]
          },
          "metadata": {},
          "execution_count": 15
        }
      ]
    },
    {
      "cell_type": "code",
      "source": [
        "new_size = (128, 128)\n",
        "\n",
        "# Resize the X and y images to 128, 128 for further ease of use\n",
        "X = [cv.resize(cv.imread(X_path), new_size) for X_path in tqdm(X_paths)]\n",
        "y = [cv.resize(cv.imread(y_path), new_size) for y_path in tqdm(y_paths)]"
      ],
      "metadata": {
        "colab": {
          "base_uri": "https://localhost:8080/"
        },
        "id": "utWqErgHlG3D",
        "outputId": "42bade65-2f58-4d01-eec3-40fef4d52f58"
      },
      "execution_count": null,
      "outputs": [
        {
          "output_type": "stream",
          "name": "stderr",
          "text": [
            "100%|██████████| 12735/12735 [00:39<00:00, 324.41it/s]\n",
            "100%|██████████| 12735/12735 [00:16<00:00, 780.92it/s]\n"
          ]
        }
      ]
    },
    {
      "cell_type": "code",
      "source": [
        "X = np.array(X)\n",
        "y = np.array(y)"
      ],
      "metadata": {
        "id": "0ypuDYL0UNl6"
      },
      "execution_count": null,
      "outputs": []
    },
    {
      "cell_type": "code",
      "source": [
        "# Perform another sanity check on the actual images\n",
        "\n",
        "cv_imshow(X[0])"
      ],
      "metadata": {
        "colab": {
          "base_uri": "https://localhost:8080/",
          "height": 145
        },
        "id": "SihVn1DamPU5",
        "outputId": "89a03b68-c60c-42b7-e009-10abd2951fb4"
      },
      "execution_count": null,
      "outputs": [
        {
          "output_type": "display_data",
          "data": {
            "image/png": "[encoded data removed]",
            "text/plain": [
              "<PIL.Image.Image image mode=RGB size=128x128 at 0x7F64D45D28D0>"
            ]
          },
          "metadata": {}
        }
      ]
    },
    {
      "cell_type": "code",
      "source": [
        "cv_imshow(y[0])"
      ],
      "metadata": {
        "colab": {
          "base_uri": "https://localhost:8080/",
          "height": 145
        },
        "id": "G8HMuyLsmrTi",
        "outputId": "463851ac-8bf5-4994-f189-b7bae1a237ad"
      },
      "execution_count": null,
      "outputs": [
        {
          "output_type": "display_data",
          "data": {
            "image/png": "[encoded data removed]",
            "text/plain": [
              "<PIL.Image.Image image mode=RGB size=128x128 at 0x7F644FF9BBD0>"
            ]
          },
          "metadata": {}
        }
      ]
    },
    {
      "cell_type": "code",
      "source": [
        "plt.figure(figsize=(16, 16))\n",
        "plt.imshow(y[0])"
      ],
      "metadata": {
        "colab": {
          "base_uri": "https://localhost:8080/",
          "height": 935
        },
        "id": "FMFVq_NLnxmP",
        "outputId": "244a23e1-51e7-4694-fd42-77f802e23a82"
      },
      "execution_count": null,
      "outputs": [
        {
          "output_type": "execute_result",
          "data": {
            "text/plain": [
              "<matplotlib.image.AxesImage at 0x7f645000df10>"
            ]
          },
          "metadata": {},
          "execution_count": 21
        },
        {
          "output_type": "display_data",
          "data": {
            "image/png": "[encoded data removed]",
            "text/plain": [
              "<Figure size 1152x1152 with 1 Axes>"
            ]
          },
          "metadata": {
            "needs_background": "light"
          }
        }
      ]
    },
    {
      "cell_type": "code",
      "source": [
        "# Check to see the present color values\n",
        "\n",
        "np.unique(y[0])"
      ],
      "metadata": {
        "colab": {
          "base_uri": "https://localhost:8080/"
        },
        "id": "s1A7Ts2Xq609",
        "outputId": "b09804d4-5293-4e8b-853d-fd6d9bee6133"
      },
      "execution_count": null,
      "outputs": [
        {
          "output_type": "execute_result",
          "data": {
            "text/plain": [
              "array([  0,   1,   2,   3,   4,   5,   6,   7,   8,   9,  10,  12,  14,\n",
              "        15,  17,  18,  19,  20,  21,  22,  24,  25,  26,  27,  28,  29,\n",
              "        30,  32,  33,  34,  35,  36,  37,  38,  40,  42,  43,  44,  45,\n",
              "        46,  47,  48,  50,  52,  53,  54,  56,  58,  60,  61,  62,  64,\n",
              "        66,  70,  72,  74,  77,  78,  80,  82,  83,  86,  88,  89,  90,\n",
              "        92,  93,  94,  95,  98, 100, 102, 104, 106, 107, 108, 109, 110,\n",
              "       111, 112, 113, 114, 115, 116, 118, 119, 120, 121, 122, 123, 124,\n",
              "       125, 126, 127, 128, 129, 130, 131, 132, 134, 135, 137, 138, 140,\n",
              "       141, 143, 144, 145, 146, 147, 148, 149, 154, 156, 157, 158, 160,\n",
              "       161, 162, 163, 164, 166, 167, 168, 169, 170, 173, 174, 175, 177,\n",
              "       179, 182, 184, 185, 186, 191, 193, 195, 196, 197, 199, 201, 202,\n",
              "       203, 205, 209, 210, 211, 212, 213, 217, 218, 219, 220, 221, 225,\n",
              "       226, 228, 229, 230, 231, 233, 234, 235, 236, 237, 240, 241, 242,\n",
              "       243, 245, 246, 247, 248, 250, 251, 252, 253, 254, 255], dtype=uint8)"
            ]
          },
          "metadata": {},
          "execution_count": 22
        }
      ]
    },
    {
      "cell_type": "code",
      "source": [
        "# Define the proper labels that are defined by the dataset\n",
        "proper_labels = [(0, 0, 0), (255, 0, 0), (0, 255, 0), (0, 0, 255), (128, 128, 128), (255, 255, 0), (255, 0, 255), (0, 255, 255), (255, 255, 255), (192, 192, 255), (128, 128, 0)]\n",
        "proper_labels = np.array(proper_labels, dtype='float16')"
      ],
      "metadata": {
        "id": "F1hnLdcWtFtX"
      },
      "execution_count": null,
      "outputs": []
    },
    {
      "cell_type": "code",
      "source": [
        "# Choose a pixel color threshold for classifying each pixel as one of the proper labels\n",
        "threshold = 50"
      ],
      "metadata": {
        "id": "bAWJMeOmOco6"
      },
      "execution_count": null,
      "outputs": []
    },
    {
      "cell_type": "code",
      "source": [
        "# Flatten the labels to make further work with them easier\n",
        "reshaped_y = y.reshape(-1,128*128, 3)\n",
        "\n",
        "# Delete the original y array from memory to save RAM\n",
        "del y"
      ],
      "metadata": {
        "id": "JgulNbnhWcfx"
      },
      "execution_count": null,
      "outputs": []
    },
    {
      "cell_type": "code",
      "source": [
        "# Perform the necessary calculations on a small batch of the data to see the final shape\n",
        "reshaped_labels = proper_labels[:, None, None]\n",
        "np.linalg.norm((reshaped_y[:20] -  reshaped_labels), axis=3).shape"
      ],
      "metadata": {
        "colab": {
          "base_uri": "https://localhost:8080/"
        },
        "id": "4zqQ1vbReG4Z",
        "outputId": "cd71ef6c-1fec-4f82-d740-c8c4be69e3b9"
      },
      "execution_count": null,
      "outputs": [
        {
          "output_type": "stream",
          "name": "stderr",
          "text": [
            "/usr/local/lib/python3.7/dist-packages/numpy/linalg/linalg.py:2561: RuntimeWarning: overflow encountered in reduce\n",
            "  return sqrt(add.reduce(s, axis=axis, keepdims=keepdims))\n"
          ]
        },
        {
          "output_type": "execute_result",
          "data": {
            "text/plain": [
              "(11, 20, 16384)"
            ]
          },
          "metadata": {},
          "execution_count": 26
        }
      ]
    },
    {
      "cell_type": "code",
      "source": [
        "# Perform one hot encoding based on the proper labels defined by the dataset\n",
        "# This step is done in this manner to conform to Google Colab's 12 GB memory limit\n",
        "\n",
        "from time import sleep\n",
        "\n",
        "# Create a target array to store the final results\n",
        "one_hot = np.empty(shape=(11, 0, 16384), dtype='float16')\n",
        "\n",
        "# Define the batch size for the computations\n",
        "batch_number = 50\n",
        "\n",
        "# Loop through the batches\n",
        "for i in tqdm(range(12735//batch_number)):\n",
        "\n",
        "  # Define the current batch\n",
        "  batch_y = reshaped_y[i*batch_number : (i+1)*batch_number]\n",
        "\n",
        "  # Change the batch's type to float16 to conserve memory\n",
        "  batch_y = batch_y.astype(dtype='float16')\n",
        "\n",
        "  # Take the difference between each pixel value and each proper label's value\n",
        "  batch_diff = batch_y.reshape(-1, 128*128, 3) - proper_labels[:, None, None]\n",
        "\n",
        "  # Calculate the euclidean distance between the two quantities\n",
        "  batch_dist = np.linalg.norm(batch_diff, axis=3)\n",
        "\n",
        "  # Use the threshold to finish the encoding for current batch\n",
        "  batch_one_hot = batch_dist < threshold\n",
        "\n",
        "  # Save the results into a global array\n",
        "  one_hot = np.concatenate([one_hot, batch_one_hot], axis=1)\n",
        "\n",
        "  # Delete the temporary variables from memory to conserve space\n",
        "  batch_y, batch_diff, batch_dist, batch_one_hot = None, None, None, None\n",
        "\n",
        "  # Let garbage collection work in peace once every 20 batches to avoid crashes\n",
        "  if i % 20 == 0:\n",
        "    sleep(10)"
      ],
      "metadata": {
        "colab": {
          "base_uri": "https://localhost:8080/"
        },
        "id": "3neDYJy1bwVM",
        "outputId": "a8638467-f173-4b72-be98-b2e4fb17eacd"
      },
      "execution_count": null,
      "outputs": [
        {
          "output_type": "stream",
          "name": "stderr",
          "text": [
            "\r  0%|          | 0/254 [00:00<?, ?it/s]/usr/local/lib/python3.7/dist-packages/numpy/linalg/linalg.py:2561: RuntimeWarning: overflow encountered in reduce\n",
            "  return sqrt(add.reduce(s, axis=axis, keepdims=keepdims))\n",
            "100%|██████████| 254/254 [15:15<00:00,  3.60s/it]\n"
          ]
        }
      ]
    },
    {
      "cell_type": "code",
      "source": [
        "# Repeat the steps in the previous cell, but on the final incomplete batch\n",
        "\n",
        "sleep(15)\n",
        "final_num = 12735 // batch_number\n",
        "\n",
        "batch_y = reshaped_y[final_num*batch_number:]\n",
        "batch_y = batch_y.astype(dtype='float16')\n",
        "batch_diff = batch_y.reshape(-1, 128*128, 3) - proper_labels[:, None, None]\n",
        "batch_dist = np.linalg.norm(batch_diff, axis=3)\n",
        "batch_one_hot = batch_dist < threshold\n",
        "one_hot = np.concatenate([one_hot, batch_one_hot], axis=1)\n",
        "\n",
        "batch_y, batch_diff, batch_dist, batch_one_hot = None, None, None, None"
      ],
      "metadata": {
        "colab": {
          "base_uri": "https://localhost:8080/"
        },
        "id": "mdkmmgRasmIZ",
        "outputId": "ef145253-ac50-444d-dd2d-67a4d226d3e4"
      },
      "execution_count": null,
      "outputs": [
        {
          "output_type": "stream",
          "name": "stderr",
          "text": [
            "/usr/local/lib/python3.7/dist-packages/numpy/linalg/linalg.py:2561: RuntimeWarning: overflow encountered in reduce\n",
            "  return sqrt(add.reduce(s, axis=axis, keepdims=keepdims))\n"
          ]
        }
      ]
    },
    {
      "cell_type": "code",
      "source": [
        "from google.colab import drive\n",
        "drive.mount('/content/drive')"
      ],
      "metadata": {
        "colab": {
          "base_uri": "https://localhost:8080/"
        },
        "id": "QTjwzMAewQQP",
        "outputId": "d36e4c55-6378-4d01-8d90-ef913ddc4499"
      },
      "execution_count": null,
      "outputs": [
        {
          "output_type": "stream",
          "name": "stdout",
          "text": [
            "Drive already mounted at /content/drive; to attempt to forcibly remount, call drive.mount(\"/content/drive\", force_remount=True).\n"
          ]
        }
      ]
    },
    {
      "cell_type": "code",
      "source": [
        "# Swap the first and second axis to make the dataset usable in model training\n",
        "one_hot = one_hot.swapaxes(0, 1)"
      ],
      "metadata": {
        "id": "apPxIr4DRiky"
      },
      "execution_count": null,
      "outputs": []
    },
    {
      "cell_type": "code",
      "source": [
        "# Save the one-hot-encoded labels\n",
        "np.save('/content/drive/MyDrive/one_hot_labels.npy', one_hot)"
      ],
      "metadata": {
        "id": "8NClFatkgb8r"
      },
      "execution_count": null,
      "outputs": []
    },
    {
      "cell_type": "code",
      "source": [
        "# Save the resized picture data\n",
        "np.save('/content/drive/MyDrive/face_data_pics.npy', X)"
      ],
      "metadata": {
        "id": "g4GH4dKogkPO"
      },
      "execution_count": null,
      "outputs": []
    }
  ]
}